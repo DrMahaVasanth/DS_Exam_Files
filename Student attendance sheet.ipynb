{
 "cells": [
  {
   "cell_type": "code",
   "execution_count": 1,
   "metadata": {},
   "outputs": [],
   "source": [
    "import pandas as pd\n",
    "import matplotlib.pyplot as plt\n",
    "import seaborn as sns"
   ]
  },
  {
   "cell_type": "code",
   "execution_count": 2,
   "metadata": {},
   "outputs": [],
   "source": [
    "# Load the data\n",
    "data = pd.read_csv(r'C:\\Users\\admin\\Downloads\\Batchwise Attendance Data - Class 1.csv')  "
   ]
  },
  {
   "cell_type": "code",
   "execution_count": 3,
   "metadata": {},
   "outputs": [
    {
     "name": "stdout",
     "output_type": "stream",
     "text": [
      "<class 'pandas.core.frame.DataFrame'>\n",
      "RangeIndex: 57 entries, 0 to 56\n",
      "Data columns (total 22 columns):\n",
      " #   Column            Non-Null Count  Dtype \n",
      "---  ------            --------------  ----- \n",
      " 0   Student Roll Num  57 non-null     int64 \n",
      " 1   Type              32 non-null     object\n",
      " 2   10-01-21          57 non-null     object\n",
      " 3   R-10-01-21        57 non-null     int64 \n",
      " 4   09-01-21          57 non-null     object\n",
      " 5   R-9-01-21         57 non-null     int64 \n",
      " 6   08-01-21          57 non-null     object\n",
      " 7   R-8-01-21         57 non-null     int64 \n",
      " 8   07-01-21          56 non-null     object\n",
      " 9   R-7-01-21         57 non-null     int64 \n",
      " 10  06-01-21          56 non-null     object\n",
      " 11  R-6-01-21         57 non-null     int64 \n",
      " 12  05-01-21          56 non-null     object\n",
      " 13  R-5-01-21         57 non-null     int64 \n",
      " 14  04-01-21          56 non-null     object\n",
      " 15  R-4-01-21         57 non-null     int64 \n",
      " 16  03-01-21          56 non-null     object\n",
      " 17  R-3-01-21         57 non-null     int64 \n",
      " 18  02-01-21          56 non-null     object\n",
      " 19  R-02-01-21        57 non-null     int64 \n",
      " 20  01-01-21          56 non-null     object\n",
      " 21  R-01-01-21        57 non-null     int64 \n",
      "dtypes: int64(11), object(11)\n",
      "memory usage: 9.9+ KB\n"
     ]
    }
   ],
   "source": [
    "data.info()"
   ]
  },
  {
   "cell_type": "code",
   "execution_count": 4,
   "metadata": {},
   "outputs": [
    {
     "data": {
      "text/html": [
       "<div>\n",
       "<style scoped>\n",
       "    .dataframe tbody tr th:only-of-type {\n",
       "        vertical-align: middle;\n",
       "    }\n",
       "\n",
       "    .dataframe tbody tr th {\n",
       "        vertical-align: top;\n",
       "    }\n",
       "\n",
       "    .dataframe thead th {\n",
       "        text-align: right;\n",
       "    }\n",
       "</style>\n",
       "<table border=\"1\" class=\"dataframe\">\n",
       "  <thead>\n",
       "    <tr style=\"text-align: right;\">\n",
       "      <th></th>\n",
       "      <th>Student Roll Num</th>\n",
       "      <th>Type</th>\n",
       "      <th>10-01-21</th>\n",
       "      <th>R-10-01-21</th>\n",
       "      <th>09-01-21</th>\n",
       "      <th>R-9-01-21</th>\n",
       "      <th>08-01-21</th>\n",
       "      <th>R-8-01-21</th>\n",
       "      <th>07-01-21</th>\n",
       "      <th>R-7-01-21</th>\n",
       "      <th>...</th>\n",
       "      <th>05-01-21</th>\n",
       "      <th>R-5-01-21</th>\n",
       "      <th>04-01-21</th>\n",
       "      <th>R-4-01-21</th>\n",
       "      <th>03-01-21</th>\n",
       "      <th>R-3-01-21</th>\n",
       "      <th>02-01-21</th>\n",
       "      <th>R-02-01-21</th>\n",
       "      <th>01-01-21</th>\n",
       "      <th>R-01-01-21</th>\n",
       "    </tr>\n",
       "  </thead>\n",
       "  <tbody>\n",
       "    <tr>\n",
       "      <th>0</th>\n",
       "      <td>1</td>\n",
       "      <td>WORKING</td>\n",
       "      <td>Missed</td>\n",
       "      <td>6</td>\n",
       "      <td>Missed</td>\n",
       "      <td>10</td>\n",
       "      <td>Missed</td>\n",
       "      <td>8</td>\n",
       "      <td>Missed</td>\n",
       "      <td>9</td>\n",
       "      <td>...</td>\n",
       "      <td>Missed</td>\n",
       "      <td>5</td>\n",
       "      <td>Missed</td>\n",
       "      <td>9</td>\n",
       "      <td>Missed</td>\n",
       "      <td>5</td>\n",
       "      <td>Missed</td>\n",
       "      <td>9</td>\n",
       "      <td>Missed</td>\n",
       "      <td>6</td>\n",
       "    </tr>\n",
       "    <tr>\n",
       "      <th>1</th>\n",
       "      <td>2</td>\n",
       "      <td>NaN</td>\n",
       "      <td>Missed</td>\n",
       "      <td>8</td>\n",
       "      <td>Missed</td>\n",
       "      <td>6</td>\n",
       "      <td>Missed</td>\n",
       "      <td>9</td>\n",
       "      <td>Attended</td>\n",
       "      <td>5</td>\n",
       "      <td>...</td>\n",
       "      <td>Attended</td>\n",
       "      <td>7</td>\n",
       "      <td>Attended</td>\n",
       "      <td>8</td>\n",
       "      <td>Missed</td>\n",
       "      <td>6</td>\n",
       "      <td>Attended</td>\n",
       "      <td>9</td>\n",
       "      <td>Missed</td>\n",
       "      <td>10</td>\n",
       "    </tr>\n",
       "    <tr>\n",
       "      <th>2</th>\n",
       "      <td>3</td>\n",
       "      <td>STUDENT</td>\n",
       "      <td>Missed</td>\n",
       "      <td>6</td>\n",
       "      <td>Missed</td>\n",
       "      <td>5</td>\n",
       "      <td>Missed</td>\n",
       "      <td>5</td>\n",
       "      <td>Missed</td>\n",
       "      <td>10</td>\n",
       "      <td>...</td>\n",
       "      <td>Attended</td>\n",
       "      <td>8</td>\n",
       "      <td>Missed</td>\n",
       "      <td>5</td>\n",
       "      <td>Missed</td>\n",
       "      <td>10</td>\n",
       "      <td>Attended</td>\n",
       "      <td>9</td>\n",
       "      <td>Attended</td>\n",
       "      <td>10</td>\n",
       "    </tr>\n",
       "    <tr>\n",
       "      <th>3</th>\n",
       "      <td>4</td>\n",
       "      <td>STUDENT</td>\n",
       "      <td>Missed</td>\n",
       "      <td>5</td>\n",
       "      <td>Missed</td>\n",
       "      <td>7</td>\n",
       "      <td>Attended</td>\n",
       "      <td>6</td>\n",
       "      <td>Missed</td>\n",
       "      <td>7</td>\n",
       "      <td>...</td>\n",
       "      <td>Missed</td>\n",
       "      <td>7</td>\n",
       "      <td>Attended</td>\n",
       "      <td>6</td>\n",
       "      <td>Attended</td>\n",
       "      <td>9</td>\n",
       "      <td>Attended</td>\n",
       "      <td>7</td>\n",
       "      <td>Attended</td>\n",
       "      <td>7</td>\n",
       "    </tr>\n",
       "    <tr>\n",
       "      <th>4</th>\n",
       "      <td>5</td>\n",
       "      <td>WORKING</td>\n",
       "      <td>Missed</td>\n",
       "      <td>7</td>\n",
       "      <td>Missed</td>\n",
       "      <td>8</td>\n",
       "      <td>Missed</td>\n",
       "      <td>5</td>\n",
       "      <td>Missed</td>\n",
       "      <td>10</td>\n",
       "      <td>...</td>\n",
       "      <td>Missed</td>\n",
       "      <td>5</td>\n",
       "      <td>Missed</td>\n",
       "      <td>8</td>\n",
       "      <td>Missed</td>\n",
       "      <td>9</td>\n",
       "      <td>Missed</td>\n",
       "      <td>10</td>\n",
       "      <td>Missed</td>\n",
       "      <td>6</td>\n",
       "    </tr>\n",
       "  </tbody>\n",
       "</table>\n",
       "<p>5 rows × 22 columns</p>\n",
       "</div>"
      ],
      "text/plain": [
       "   Student Roll Num     Type 10-01-21  R-10-01-21 09-01-21  R-9-01-21  \\\n",
       "0                 1  WORKING   Missed           6   Missed         10   \n",
       "1                 2      NaN   Missed           8   Missed          6   \n",
       "2                 3  STUDENT   Missed           6   Missed          5   \n",
       "3                 4  STUDENT   Missed           5   Missed          7   \n",
       "4                 5  WORKING   Missed           7   Missed          8   \n",
       "\n",
       "   08-01-21  R-8-01-21  07-01-21  R-7-01-21  ...  05-01-21  R-5-01-21  \\\n",
       "0    Missed          8    Missed          9  ...    Missed          5   \n",
       "1    Missed          9  Attended          5  ...  Attended          7   \n",
       "2    Missed          5    Missed         10  ...  Attended          8   \n",
       "3  Attended          6    Missed          7  ...    Missed          7   \n",
       "4    Missed          5    Missed         10  ...    Missed          5   \n",
       "\n",
       "   04-01-21  R-4-01-21  03-01-21  R-3-01-21  02-01-21  R-02-01-21  01-01-21  \\\n",
       "0    Missed          9    Missed          5    Missed           9    Missed   \n",
       "1  Attended          8    Missed          6  Attended           9    Missed   \n",
       "2    Missed          5    Missed         10  Attended           9  Attended   \n",
       "3  Attended          6  Attended          9  Attended           7  Attended   \n",
       "4    Missed          8    Missed          9    Missed          10    Missed   \n",
       "\n",
       "   R-01-01-21  \n",
       "0           6  \n",
       "1          10  \n",
       "2          10  \n",
       "3           7  \n",
       "4           6  \n",
       "\n",
       "[5 rows x 22 columns]"
      ]
     },
     "execution_count": 4,
     "metadata": {},
     "output_type": "execute_result"
    }
   ],
   "source": [
    "data.head()"
   ]
  },
  {
   "cell_type": "code",
   "execution_count": 5,
   "metadata": {},
   "outputs": [
    {
     "data": {
      "text/plain": [
       "pandas.core.series.Series"
      ]
     },
     "execution_count": 5,
     "metadata": {},
     "output_type": "execute_result"
    }
   ],
   "source": [
    "type(data['R-01-01-21'])"
   ]
  },
  {
   "cell_type": "code",
   "execution_count": null,
   "metadata": {},
   "outputs": [],
   "source": [
    "print(data.isnull().sum()) "
   ]
  },
  {
   "cell_type": "code",
   "execution_count": 58,
   "metadata": {},
   "outputs": [],
   "source": [
    "data['Type'].fillna('STUDENT', inplace=True)"
   ]
  },
  {
   "cell_type": "code",
   "execution_count": 59,
   "metadata": {},
   "outputs": [
    {
     "data": {
      "text/plain": [
       "Index(['Student Roll Num', 'Type', '10-01-21', 'R-10-01-21', '09-01-21',\n",
       "       'R-9-01-21', '08-01-21', 'R-8-01-21', '07-01-21', 'R-7-01-21',\n",
       "       '06-01-21', 'R-6-01-21', '05-01-21', 'R-5-01-21', '04-01-21',\n",
       "       'R-4-01-21', '03-01-21', 'R-3-01-21', '02-01-21', 'R-02-01-21',\n",
       "       '01-01-21', 'R-01-01-21'],\n",
       "      dtype='object')"
      ]
     },
     "execution_count": 59,
     "metadata": {},
     "output_type": "execute_result"
    }
   ],
   "source": [
    "data.columns"
   ]
  },
  {
   "cell_type": "code",
   "execution_count": 89,
   "metadata": {},
   "outputs": [
    {
     "name": "stdout",
     "output_type": "stream",
     "text": [
      "[array([26, 31], dtype=int64), array([25, 32], dtype=int64), array([27, 30], dtype=int64), array([30, 26], dtype=int64), array([28, 28], dtype=int64), array([28, 28], dtype=int64), array([32, 24], dtype=int64), array([27, 29], dtype=int64), array([34, 22], dtype=int64), array([30, 26], dtype=int64)]\n"
     ]
    }
   ],
   "source": [
    "Attendance=[]\n",
    "Attendance=[data.groupby(['10-01-21'])['Student Roll Num'].count().values,data.groupby(['09-01-21'])['Student Roll Num'].count().values,data.groupby(['08-01-21'])['Student Roll Num'].count().values,\n",
    "data.groupby(['07-01-21'])['Student Roll Num'].count().values,data.groupby(['06-01-21'])['Student Roll Num'].count().values,data.groupby(['05-01-21'])['Student Roll Num'].count().values,\n",
    "data.groupby(['04-01-21'])['Student Roll Num'].count().values,data.groupby(['03-01-21'])['Student Roll Num'].count().values,data.groupby(['02-01-21'])['Student Roll Num'].count().values,\n",
    "data.groupby(['01-01-21'])['Student Roll Num'].count().values]\n",
    "print(Attendance)\n"
   ]
  },
  {
   "cell_type": "code",
   "execution_count": null,
   "metadata": {},
   "outputs": [],
   "source": [
    "for i in Attendance:\n",
    "    print(i[0],i[1])\n"
   ]
  },
  {
   "cell_type": "code",
   "execution_count": 90,
   "metadata": {},
   "outputs": [
    {
     "data": {
      "text/html": [
       "<div>\n",
       "<style scoped>\n",
       "    .dataframe tbody tr th:only-of-type {\n",
       "        vertical-align: middle;\n",
       "    }\n",
       "\n",
       "    .dataframe tbody tr th {\n",
       "        vertical-align: top;\n",
       "    }\n",
       "\n",
       "    .dataframe thead th {\n",
       "        text-align: right;\n",
       "    }\n",
       "</style>\n",
       "<table border=\"1\" class=\"dataframe\">\n",
       "  <thead>\n",
       "    <tr style=\"text-align: right;\">\n",
       "      <th></th>\n",
       "      <th>Attended</th>\n",
       "      <th>Missed</th>\n",
       "    </tr>\n",
       "  </thead>\n",
       "  <tbody>\n",
       "    <tr>\n",
       "      <th>10-01-21</th>\n",
       "      <td>26</td>\n",
       "      <td>31</td>\n",
       "    </tr>\n",
       "    <tr>\n",
       "      <th>09-01-21</th>\n",
       "      <td>25</td>\n",
       "      <td>32</td>\n",
       "    </tr>\n",
       "    <tr>\n",
       "      <th>08-01-21</th>\n",
       "      <td>27</td>\n",
       "      <td>30</td>\n",
       "    </tr>\n",
       "    <tr>\n",
       "      <th>07-01-21</th>\n",
       "      <td>30</td>\n",
       "      <td>26</td>\n",
       "    </tr>\n",
       "    <tr>\n",
       "      <th>06-01-21</th>\n",
       "      <td>28</td>\n",
       "      <td>28</td>\n",
       "    </tr>\n",
       "    <tr>\n",
       "      <th>05-01-21</th>\n",
       "      <td>28</td>\n",
       "      <td>28</td>\n",
       "    </tr>\n",
       "    <tr>\n",
       "      <th>04-01-21</th>\n",
       "      <td>32</td>\n",
       "      <td>24</td>\n",
       "    </tr>\n",
       "    <tr>\n",
       "      <th>03-01-21</th>\n",
       "      <td>27</td>\n",
       "      <td>29</td>\n",
       "    </tr>\n",
       "    <tr>\n",
       "      <th>02-01-21</th>\n",
       "      <td>34</td>\n",
       "      <td>22</td>\n",
       "    </tr>\n",
       "    <tr>\n",
       "      <th>01-01-21</th>\n",
       "      <td>30</td>\n",
       "      <td>26</td>\n",
       "    </tr>\n",
       "  </tbody>\n",
       "</table>\n",
       "</div>"
      ],
      "text/plain": [
       "          Attended  Missed\n",
       "10-01-21        26      31\n",
       "09-01-21        25      32\n",
       "08-01-21        27      30\n",
       "07-01-21        30      26\n",
       "06-01-21        28      28\n",
       "05-01-21        28      28\n",
       "04-01-21        32      24\n",
       "03-01-21        27      29\n",
       "02-01-21        34      22\n",
       "01-01-21        30      26"
      ]
     },
     "execution_count": 90,
     "metadata": {},
     "output_type": "execute_result"
    }
   ],
   "source": [
    "df=pd.DataFrame(Attendance,index=['10-01-21',  '09-01-21',\n",
    "       '08-01-21',  '07-01-21', \n",
    "       '06-01-21',  '05-01-21',  '04-01-21',\n",
    "        '03-01-21',  '02-01-21', \n",
    "       '01-01-21'],columns=['Attended','Missed'])\n",
    "df"
   ]
  },
  {
   "cell_type": "code",
   "execution_count": 102,
   "metadata": {},
   "outputs": [
    {
     "data": {
      "text/plain": [
       "<Figure size 800x600 with 0 Axes>"
      ]
     },
     "metadata": {},
     "output_type": "display_data"
    },
    {
     "data": {
      "image/png": "[encoded data removed]",
      "text/plain": [
       "<Figure size 640x480 with 1 Axes>"
      ]
     },
     "metadata": {},
     "output_type": "display_data"
    }
   ],
   "source": [
    "plt.figure(figsize=(8, 6))\n",
    "df.plot(kind='bar')\n",
    "plt.title('Overall Student Attendance',fontsize=14, fontweight=\"bold\")\n",
    "plt.xlabel('Sessions')\n",
    "plt.ylabel('Total Count')\n",
    "plt.legend()\n",
    "plt.show()"
   ]
  },
  {
   "cell_type": "code",
   "execution_count": 141,
   "metadata": {},
   "outputs": [
    {
     "name": "stdout",
     "output_type": "stream",
     "text": [
      "[array([13, 11, 14,  6,  4,  9], dtype=int64), array([12,  9, 10,  8,  7, 11], dtype=int64), array([14,  8,  8, 10,  8,  9], dtype=int64), array([ 9,  9, 10, 11, 10,  8], dtype=int64), array([13, 10,  8, 10,  7,  9], dtype=int64), array([ 7,  7, 12, 13,  6, 12], dtype=int64), array([10,  9,  7, 10, 10, 11], dtype=int64), array([ 9, 10,  8,  9, 10, 11], dtype=int64), array([10,  5, 15,  9,  7, 11], dtype=int64), array([ 9, 10,  8, 11, 11,  8], dtype=int64)]\n"
     ]
    }
   ],
   "source": [
    "Rating=[data.groupby(['R-10-01-21'])['Student Roll Num'].count().values,\n",
    "        data.groupby(['R-9-01-21'])['Student Roll Num'].count().values,\n",
    "data.groupby(['R-8-01-21'])['Student Roll Num'].count().values,\n",
    "data.groupby(['R-7-01-21'])['Student Roll Num'].count().values,\n",
    "data.groupby(['R-6-01-21'])['Student Roll Num'].count().values,\n",
    "data.groupby(['R-5-01-21'])['Student Roll Num'].count().values,\n",
    "data.groupby(['R-4-01-21'])['Student Roll Num'].count().values,\n",
    "data.groupby(['R-3-01-21'])['Student Roll Num'].count().values,\n",
    "data.groupby(['R-02-01-21'])['Student Roll Num'].count().values,\n",
    "data.groupby(['R-01-01-21'])['Student Roll Num'].count().values]\n",
    "print(Rating)"
   ]
  },
  {
   "cell_type": "code",
   "execution_count": 142,
   "metadata": {},
   "outputs": [
    {
     "data": {
      "text/html": [
       "<div>\n",
       "<style scoped>\n",
       "    .dataframe tbody tr th:only-of-type {\n",
       "        vertical-align: middle;\n",
       "    }\n",
       "\n",
       "    .dataframe tbody tr th {\n",
       "        vertical-align: top;\n",
       "    }\n",
       "\n",
       "    .dataframe thead th {\n",
       "        text-align: right;\n",
       "    }\n",
       "</style>\n",
       "<table border=\"1\" class=\"dataframe\">\n",
       "  <thead>\n",
       "    <tr style=\"text-align: right;\">\n",
       "      <th></th>\n",
       "      <th>5 Rating</th>\n",
       "      <th>6 Rating</th>\n",
       "      <th>7 Rating</th>\n",
       "      <th>8 Rating</th>\n",
       "      <th>9 Rating</th>\n",
       "      <th>10 Rating</th>\n",
       "    </tr>\n",
       "  </thead>\n",
       "  <tbody>\n",
       "    <tr>\n",
       "      <th>10-01-21</th>\n",
       "      <td>13</td>\n",
       "      <td>11</td>\n",
       "      <td>14</td>\n",
       "      <td>6</td>\n",
       "      <td>4</td>\n",
       "      <td>9</td>\n",
       "    </tr>\n",
       "    <tr>\n",
       "      <th>09-01-21</th>\n",
       "      <td>12</td>\n",
       "      <td>9</td>\n",
       "      <td>10</td>\n",
       "      <td>8</td>\n",
       "      <td>7</td>\n",
       "      <td>11</td>\n",
       "    </tr>\n",
       "    <tr>\n",
       "      <th>08-01-21</th>\n",
       "      <td>14</td>\n",
       "      <td>8</td>\n",
       "      <td>8</td>\n",
       "      <td>10</td>\n",
       "      <td>8</td>\n",
       "      <td>9</td>\n",
       "    </tr>\n",
       "    <tr>\n",
       "      <th>07-01-21</th>\n",
       "      <td>9</td>\n",
       "      <td>9</td>\n",
       "      <td>10</td>\n",
       "      <td>11</td>\n",
       "      <td>10</td>\n",
       "      <td>8</td>\n",
       "    </tr>\n",
       "    <tr>\n",
       "      <th>06-01-21</th>\n",
       "      <td>13</td>\n",
       "      <td>10</td>\n",
       "      <td>8</td>\n",
       "      <td>10</td>\n",
       "      <td>7</td>\n",
       "      <td>9</td>\n",
       "    </tr>\n",
       "    <tr>\n",
       "      <th>05-01-21</th>\n",
       "      <td>7</td>\n",
       "      <td>7</td>\n",
       "      <td>12</td>\n",
       "      <td>13</td>\n",
       "      <td>6</td>\n",
       "      <td>12</td>\n",
       "    </tr>\n",
       "    <tr>\n",
       "      <th>04-01-21</th>\n",
       "      <td>10</td>\n",
       "      <td>9</td>\n",
       "      <td>7</td>\n",
       "      <td>10</td>\n",
       "      <td>10</td>\n",
       "      <td>11</td>\n",
       "    </tr>\n",
       "    <tr>\n",
       "      <th>03-01-21</th>\n",
       "      <td>9</td>\n",
       "      <td>10</td>\n",
       "      <td>8</td>\n",
       "      <td>9</td>\n",
       "      <td>10</td>\n",
       "      <td>11</td>\n",
       "    </tr>\n",
       "    <tr>\n",
       "      <th>02-01-21</th>\n",
       "      <td>10</td>\n",
       "      <td>5</td>\n",
       "      <td>15</td>\n",
       "      <td>9</td>\n",
       "      <td>7</td>\n",
       "      <td>11</td>\n",
       "    </tr>\n",
       "    <tr>\n",
       "      <th>01-01-21</th>\n",
       "      <td>9</td>\n",
       "      <td>10</td>\n",
       "      <td>8</td>\n",
       "      <td>11</td>\n",
       "      <td>11</td>\n",
       "      <td>8</td>\n",
       "    </tr>\n",
       "  </tbody>\n",
       "</table>\n",
       "</div>"
      ],
      "text/plain": [
       "          5 Rating  6 Rating  7 Rating  8 Rating  9 Rating  10 Rating\n",
       "10-01-21        13        11        14         6         4          9\n",
       "09-01-21        12         9        10         8         7         11\n",
       "08-01-21        14         8         8        10         8          9\n",
       "07-01-21         9         9        10        11        10          8\n",
       "06-01-21        13        10         8        10         7          9\n",
       "05-01-21         7         7        12        13         6         12\n",
       "04-01-21        10         9         7        10        10         11\n",
       "03-01-21         9        10         8         9        10         11\n",
       "02-01-21        10         5        15         9         7         11\n",
       "01-01-21         9        10         8        11        11          8"
      ]
     },
     "execution_count": 142,
     "metadata": {},
     "output_type": "execute_result"
    }
   ],
   "source": [
    "df1=pd.DataFrame(Rating,index=['10-01-21',  '09-01-21',\n",
    "       '08-01-21',  '07-01-21', '06-01-21',  '05-01-21',  '04-01-21','03-01-21',  '02-01-21', '01-01-21'],\n",
    "       columns=['5 Rating','6 Rating','7 Rating','8 Rating','9 Rating','10 Rating'])\n",
    "df1"
   ]
  },
  {
   "cell_type": "code",
   "execution_count": 149,
   "metadata": {},
   "outputs": [
    {
     "data": {
      "text/plain": [
       "<Figure size 800x600 with 0 Axes>"
      ]
     },
     "metadata": {},
     "output_type": "display_data"
    },
    {
     "data": {
      "image/png": "[encoded data removed]",
      "text/plain": [
       "<Figure size 640x480 with 1 Axes>"
      ]
     },
     "metadata": {},
     "output_type": "display_data"
    }
   ],
   "source": [
    "plt.figure(figsize=(8, 6))\n",
    "df1.plot.bar(stacked=True)\n",
    "plt.title('Overall Student Rating',fontsize=20, fontweight=\"bold\")\n",
    "plt.xlabel('Sessions')\n",
    "plt.ylabel('Total Count')\n",
    "plt.legend()\n",
    "plt.show()"
   ]
  }
 ],
 "metadata": {
  "kernelspec": {
   "display_name": "Python 3",
   "language": "python",
   "name": "python3"
  },
  "language_info": {
   "codemirror_mode": {
    "name": "ipython",
    "version": 3
   },
   "file_extension": ".py",
   "mimetype": "text/x-python",
   "name": "python",
   "nbconvert_exporter": "python",
   "pygments_lexer": "ipython3",
   "version": "3.10.10"
  }
 },
 "nbformat": 4,
 "nbformat_minor": 2
}
